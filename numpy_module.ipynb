{
 "cells": [
  {
   "cell_type": "code",
   "execution_count": null,
   "id": "097b0814",
   "metadata": {},
   "outputs": [],
   "source": [
    "def factorial(n):\n",
    "    fact=1\n",
    "    for i in range(2,n+1):\n",
    "        fact*=i\n",
    "    return fact\n",
    "\n",
    "num=int(input(\"Enter the number \"))\n",
    "print(factorial(num))"
   ]
  },
  {
   "cell_type": "code",
   "execution_count": null,
   "id": "e02a5e60",
   "metadata": {},
   "outputs": [],
   "source": [
    "def CTF(temp):\n",
    "    temp=(((9/5)*temp)+32)\n",
    "    return temp\n",
    "temp=int(input(\"ENter the temp in cel \"))\n",
    "print(CTF(temp))\n"
   ]
  },
  {
   "cell_type": "code",
   "execution_count": null,
   "id": "ff723757",
   "metadata": {},
   "outputs": [],
   "source": [
    "def fn(a,b,c=10,d=5):\n",
    "    s=a/b+c/d\n",
    "    return s,a,b,c,d\n",
    "fn(b=2,a=4,c=10,d=100)"
   ]
  },
  {
   "cell_type": "code",
   "execution_count": null,
   "id": "8c681e3d",
   "metadata": {},
   "outputs": [],
   "source": [
    "import time\n",
    "print(\"Welcome shri narendra damodardas modi\")\n",
    "time.sleep(1)\n",
    "print(\"Welcome selmon bhoi\")\n",
    "time.sleep(1)\n",
    "print(\"welcome thugadeepa darshan \")"
   ]
  },
  {
   "cell_type": "code",
   "execution_count": null,
   "id": "931f65f6",
   "metadata": {},
   "outputs": [],
   "source": [
    "lst=[i for i in range(100) if i%2==0]\n",
    "print(lst)"
   ]
  },
  {
   "cell_type": "code",
   "execution_count": null,
   "id": "6e659c37",
   "metadata": {
    "scrolled": true
   },
   "outputs": [],
   "source": [
    "import numpy as np\n",
    "a=[[1,2,3,4],[5,6,7,8],[1,2,3,4]]\n",
    "n1=np.array(a)\n",
    "b=np.reshape(n1,(4,3))\n",
    "print(b)"
   ]
  },
  {
   "cell_type": "code",
   "execution_count": null,
   "id": "be83334a",
   "metadata": {},
   "outputs": [],
   "source": [
    "nr=np.random.randint((4,4))\n",
    "print(nr)"
   ]
  },
  {
   "cell_type": "code",
   "execution_count": null,
   "id": "5dabbb50",
   "metadata": {},
   "outputs": [],
   "source": [
    "a=[1,2,3,4]\n",
    "n1=np.array(a,dtype=\"str\")\n",
    "print(n1)\n",
    "n1.dtype\n",
    "type(n1)"
   ]
  },
  {
   "cell_type": "code",
   "execution_count": 8,
   "id": "95a0d7e9",
   "metadata": {},
   "outputs": [
    {
     "name": "stdout",
     "output_type": "stream",
     "text": [
      "mean is : 3.0\n",
      "median is : 3.0\n"
     ]
    }
   ],
   "source": [
    "import numpy as np\n",
    "a=[1,2,3,4,5,1,2,3,4,5,1,2,3,4,5,1,2,3,4,5,1,2,3,4,5]\n",
    "print(\"mean is :\",np.mean(a))\n",
    "print(\"median is :\",np.median(a))\n"
   ]
  },
  {
   "cell_type": "code",
   "execution_count": 1,
   "id": "cd82c86a",
   "metadata": {},
   "outputs": [],
   "source": [
    "import numpy as np "
   ]
  },
  {
   "cell_type": "code",
   "execution_count": 2,
   "id": "dc7115fa",
   "metadata": {},
   "outputs": [
    {
     "data": {
      "text/plain": [
       "array([[0., 0., 0., 0.],\n",
       "       [0., 0., 0., 0.],\n",
       "       [0., 0., 0., 0.]])"
      ]
     },
     "execution_count": 2,
     "metadata": {},
     "output_type": "execute_result"
    }
   ],
   "source": [
    "np.zeros((3,4))"
   ]
  },
  {
   "cell_type": "code",
   "execution_count": 11,
   "id": "82f96155",
   "metadata": {},
   "outputs": [
    {
     "data": {
      "text/plain": [
       "array([[[1, 1, 1, 1],\n",
       "        [1, 1, 1, 1],\n",
       "        [1, 1, 1, 1]],\n",
       "\n",
       "       [[1, 1, 1, 1],\n",
       "        [1, 1, 1, 1],\n",
       "        [1, 1, 1, 1]],\n",
       "\n",
       "       [[1, 1, 1, 1],\n",
       "        [1, 1, 1, 1],\n",
       "        [1, 1, 1, 1]],\n",
       "\n",
       "       [[1, 1, 1, 1],\n",
       "        [1, 1, 1, 1],\n",
       "        [1, 1, 1, 1]],\n",
       "\n",
       "       [[1, 1, 1, 1],\n",
       "        [1, 1, 1, 1],\n",
       "        [1, 1, 1, 1]],\n",
       "\n",
       "       [[1, 1, 1, 1],\n",
       "        [1, 1, 1, 1],\n",
       "        [1, 1, 1, 1]],\n",
       "\n",
       "       [[1, 1, 1, 1],\n",
       "        [1, 1, 1, 1],\n",
       "        [1, 1, 1, 1]],\n",
       "\n",
       "       [[1, 1, 1, 1],\n",
       "        [1, 1, 1, 1],\n",
       "        [1, 1, 1, 1]],\n",
       "\n",
       "       [[1, 1, 1, 1],\n",
       "        [1, 1, 1, 1],\n",
       "        [1, 1, 1, 1]]], dtype=int16)"
      ]
     },
     "execution_count": 11,
     "metadata": {},
     "output_type": "execute_result"
    }
   ],
   "source": [
    " np.ones((9,3,4),dtype=np.int16)"
   ]
  },
  {
   "cell_type": "code",
   "execution_count": 6,
   "id": "78d18659",
   "metadata": {},
   "outputs": [
    {
     "data": {
      "text/plain": [
       "array([10, 15, 20])"
      ]
     },
     "execution_count": 6,
     "metadata": {},
     "output_type": "execute_result"
    }
   ],
   "source": [
    " d = np.arange(10,25,5) \n",
    "d"
   ]
  },
  {
   "cell_type": "code",
   "execution_count": 12,
   "id": "ee1ff3c4",
   "metadata": {},
   "outputs": [
    {
     "data": {
      "text/plain": [
       "array([0.  , 0.25, 0.5 , 0.75, 1.  , 1.25, 1.5 , 1.75, 2.  ])"
      ]
     },
     "execution_count": 12,
     "metadata": {},
     "output_type": "execute_result"
    }
   ],
   "source": [
    "np.linspace(0,2,9)"
   ]
  },
  {
   "cell_type": "code",
   "execution_count": 16,
   "id": "8da15333",
   "metadata": {},
   "outputs": [],
   "source": [
    "A=np.array([10,20,30])"
   ]
  },
  {
   "cell_type": "code",
   "execution_count": 18,
   "id": "c67cc8ad",
   "metadata": {},
   "outputs": [],
   "source": [
    "B=np.array([40,50,60])"
   ]
  },
  {
   "cell_type": "markdown",
   "id": "7ccfe3bb",
   "metadata": {},
   "source": [
    "#### Add 2 arrays"
   ]
  },
  {
   "cell_type": "code",
   "execution_count": 19,
   "id": "c11a75d1",
   "metadata": {},
   "outputs": [
    {
     "data": {
      "text/plain": [
       "array([50, 70, 90])"
      ]
     },
     "execution_count": 19,
     "metadata": {},
     "output_type": "execute_result"
    }
   ],
   "source": [
    "C=A+B\n",
    "C"
   ]
  },
  {
   "cell_type": "markdown",
   "id": "f76d654d",
   "metadata": {},
   "source": [
    "#### Multiply 2 arrays"
   ]
  },
  {
   "cell_type": "code",
   "execution_count": 20,
   "id": "6e050d65",
   "metadata": {},
   "outputs": [
    {
     "data": {
      "text/plain": [
       "array([ 400, 1000, 1800])"
      ]
     },
     "execution_count": 20,
     "metadata": {},
     "output_type": "execute_result"
    }
   ],
   "source": [
    "C=A*B\n",
    "C"
   ]
  },
  {
   "cell_type": "code",
   "execution_count": 22,
   "id": "faaca7b2",
   "metadata": {},
   "outputs": [
    {
     "data": {
      "text/plain": [
       "50.0"
      ]
     },
     "execution_count": 22,
     "metadata": {},
     "output_type": "execute_result"
    }
   ],
   "source": [
    "np.mean(A)\n",
    "\n"
   ]
  },
  {
   "cell_type": "code",
   "execution_count": 23,
   "id": "168b1699",
   "metadata": {
    "scrolled": true
   },
   "outputs": [
    {
     "data": {
      "text/plain": [
       "50.0"
      ]
     },
     "execution_count": 23,
     "metadata": {},
     "output_type": "execute_result"
    }
   ],
   "source": [
    "np.mean(B)\n"
   ]
  },
  {
   "cell_type": "code",
   "execution_count": 26,
   "id": "1447653c",
   "metadata": {},
   "outputs": [
    {
     "data": {
      "text/plain": [
       "2.8574404296987996"
      ]
     },
     "execution_count": 26,
     "metadata": {},
     "output_type": "execute_result"
    }
   ],
   "source": [
    "import math\n",
    "math.sqrt(np.std(A))"
   ]
  },
  {
   "cell_type": "code",
   "execution_count": 27,
   "id": "515a22a4",
   "metadata": {},
   "outputs": [
    {
     "data": {
      "text/plain": [
       "2.8574404296987996"
      ]
     },
     "execution_count": 27,
     "metadata": {},
     "output_type": "execute_result"
    }
   ],
   "source": [
    "math.sqrt(np.std(B))"
   ]
  },
  {
   "cell_type": "code",
   "execution_count": null,
   "id": "1ababfa9",
   "metadata": {},
   "outputs": [],
   "source": []
  }
 ],
 "metadata": {
  "kernelspec": {
   "display_name": "Python 3 (ipykernel)",
   "language": "python",
   "name": "python3"
  },
  "language_info": {
   "codemirror_mode": {
    "name": "ipython",
    "version": 3
   },
   "file_extension": ".py",
   "mimetype": "text/x-python",
   "name": "python",
   "nbconvert_exporter": "python",
   "pygments_lexer": "ipython3",
   "version": "3.11.3"
  }
 },
 "nbformat": 4,
 "nbformat_minor": 5
}
